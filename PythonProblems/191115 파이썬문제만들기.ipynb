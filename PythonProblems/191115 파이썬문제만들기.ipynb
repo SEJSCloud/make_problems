{
 "cells": [
  {
   "cell_type": "markdown",
   "metadata": {},
   "source": [
    "### \\*args로 들어온 값을 key로 **kwargs로 들어온 데이터의 value를 value로 dict만들어주는 함수 만들기\n",
    "- 전제 : args와 kwargs로 들어오는 데이터들의 길이는 항상 같습니다"
   ]
  },
  {
   "cell_type": "code",
   "execution_count": 5,
   "metadata": {},
   "outputs": [],
   "source": [
    "def makeDict(*args, **kwargs):\n",
    "    answer = {}\n",
    "    length = len(args)\n",
    "    for num in range(0,length):\n",
    "        answer[args[num]] = kwargs[list(kwargs.keys())[num]]\n",
    "    return answer"
   ]
  },
  {
   "cell_type": "code",
   "execution_count": 6,
   "metadata": {},
   "outputs": [
    {
     "data": {
      "text/plain": [
       "{'초봄': '꽃', '초여름': '수박', '초가을': '단풍', '초겨울': '눈'}"
      ]
     },
     "execution_count": 6,
     "metadata": {},
     "output_type": "execute_result"
    }
   ],
   "source": [
    "makeDict(\"초봄\", \"초여름\", \"초가을\", \"초겨울\", 봄 = \"꽃\", 여름 = \"수박\", 가을 = \"단풍\", 겨울 = \"눈\")"
   ]
  },
  {
   "cell_type": "code",
   "execution_count": 7,
   "metadata": {},
   "outputs": [
    {
     "data": {
      "text/plain": [
       "{'엔코아': '플레이데이터'}"
      ]
     },
     "execution_count": 7,
     "metadata": {},
     "output_type": "execute_result"
    }
   ],
   "source": [
    "makeDict(\"엔코아\",멘코아 = \"플레이데이터\")"
   ]
  },
  {
   "cell_type": "markdown",
   "metadata": {},
   "source": [
    "### map, reduce, filter, lambda, comprehension 활용하기 \n",
    "- 1부터 num까지 숫자가 반복됩니다\n",
    "- 반복될때마다 숫자를 제곱해서 이전의 값과 더해줍니다\n",
    "- 단 숫자의 제곱값이 50보다는 커야합니다\n",
    "- 이러한 결과를 list에 담아서 출력하되 comprehension과 lambda를 써서 코딩해야합니다\n",
    "- \\* 결과로 list에는 하나의 원소만 담기게됨"
   ]
  },
  {
   "cell_type": "code",
   "execution_count": 15,
   "metadata": {},
   "outputs": [],
   "source": [
    "from functools import reduce\n",
    "def calculate(num):\n",
    "    return [reduce(lambda v, v2 : v + v2, filter(lambda y : y > 50, map(lambda x : x ** 2, range(1, num))))]"
   ]
  },
  {
   "cell_type": "code",
   "execution_count": 16,
   "metadata": {},
   "outputs": [
    {
     "data": {
      "text/plain": [
       "[875]"
      ]
     },
     "execution_count": 16,
     "metadata": {},
     "output_type": "execute_result"
    }
   ],
   "source": [
    "calculate(15)"
   ]
  },
  {
   "cell_type": "code",
   "execution_count": 17,
   "metadata": {},
   "outputs": [
    {
     "data": {
      "text/plain": [
       "[8415]"
      ]
     },
     "execution_count": 17,
     "metadata": {},
     "output_type": "execute_result"
    }
   ],
   "source": [
    "calculate(30)"
   ]
  }
 ],
 "metadata": {
  "kernelspec": {
   "display_name": "Python 3",
   "language": "python",
   "name": "python3"
  },
  "language_info": {
   "codemirror_mode": {
    "name": "ipython",
    "version": 3
   },
   "file_extension": ".py",
   "mimetype": "text/x-python",
   "name": "python",
   "nbconvert_exporter": "python",
   "pygments_lexer": "ipython3",
   "version": "3.7.4"
  }
 },
 "nbformat": 4,
 "nbformat_minor": 2
}
